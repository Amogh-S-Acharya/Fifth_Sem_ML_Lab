{
  "nbformat": 4,
  "nbformat_minor": 0,
  "metadata": {
    "colab": {
      "provenance": [],
      "authorship_tag": "ABX9TyMw7I+vErL4AdiOohq2441Q",
      "include_colab_link": true
    },
    "kernelspec": {
      "name": "python3",
      "display_name": "Python 3"
    },
    "language_info": {
      "name": "python"
    }
  },
  "cells": [
    {
      "cell_type": "markdown",
      "metadata": {
        "id": "view-in-github",
        "colab_type": "text"
      },
      "source": [
        "<a href=\"https://colab.research.google.com/github/Amogh-S-Acharya/Fifth_Sem_ML_Lab/blob/main/Bayesian_desicion_theory.ipynb\" target=\"_parent\"><img src=\"https://colab.research.google.com/assets/colab-badge.svg\" alt=\"Open In Colab\"/></a>"
      ]
    },
    {
      "cell_type": "code",
      "execution_count": null,
      "metadata": {
        "id": "pnQVLw3-WN4_"
      },
      "outputs": [],
      "source": []
    },
    {
      "cell_type": "code",
      "metadata": {
        "colab": {
          "base_uri": "https://localhost:8080/"
        },
        "id": "1d4cd9ae",
        "outputId": "a6beeb8f-cef4-4f7b-d53e-6ba89f2285a7"
      },
      "source": [
        "from sklearn.datasets import load_iris\n",
        "\n",
        "iris = load_iris()\n",
        "print(iris.keys())\n",
        "print(iris.data.shape)\n",
        "print(iris.target.shape)"
      ],
      "execution_count": 1,
      "outputs": [
        {
          "output_type": "stream",
          "name": "stdout",
          "text": [
            "dict_keys(['data', 'target', 'frame', 'target_names', 'DESCR', 'feature_names', 'filename', 'data_module'])\n",
            "(150, 4)\n",
            "(150,)\n"
          ]
        }
      ]
    },
    {
      "cell_type": "code",
      "metadata": {
        "colab": {
          "base_uri": "https://localhost:8080/"
        },
        "id": "289ae213",
        "outputId": "96b49c7d-a9bb-4b33-8570-07665f93cc95"
      },
      "source": [
        "from sklearn.model_selection import train_test_split\n",
        "\n",
        "X_train, X_test, y_train, y_test = train_test_split(iris.data, iris.target, test_size=0.3, random_state=42)\n",
        "\n",
        "print(X_train.shape)\n",
        "print(X_test.shape)\n",
        "print(y_train.shape)\n",
        "print(y_test.shape)"
      ],
      "execution_count": 2,
      "outputs": [
        {
          "output_type": "stream",
          "name": "stdout",
          "text": [
            "(105, 4)\n",
            "(45, 4)\n",
            "(105,)\n",
            "(45,)\n"
          ]
        }
      ]
    },
    {
      "cell_type": "code",
      "metadata": {
        "id": "87f80c65"
      },
      "source": [
        "import numpy as np\n",
        "from scipy.stats import norm\n",
        "\n",
        "class BayesianDecisionTheoryClassifier:\n",
        "    def fit(self, X, y):\n",
        "        self.classes_ = np.unique(y)\n",
        "        self.n_classes_ = len(self.classes_)\n",
        "        self.n_features_ = X.shape[1]\n",
        "        self._calculate_priors(y)\n",
        "        self._calculate_likelihood_params(X, y)\n",
        "\n",
        "    def _calculate_priors(self, y):\n",
        "        self.priors_ = np.zeros(self.n_classes_)\n",
        "        for i, c in enumerate(self.classes_):\n",
        "            self.priors_[i] = np.sum(y == c) / len(y)\n",
        "\n",
        "    def _calculate_likelihood_params(self, X, y):\n",
        "        self.means_ = np.zeros((self.n_classes_, self.n_features_))\n",
        "        self.variances_ = np.zeros((self.n_classes_, self.n_features_))\n",
        "        for i, c in enumerate(self.classes_):\n",
        "            X_c = X[y == c]\n",
        "            self.means_[i, :] = np.mean(X_c, axis=0)\n",
        "            self.variances_[i, :] = np.var(X_c, axis=0)\n",
        "\n",
        "    def predict(self, X):\n",
        "        predictions = [self._predict_single(x) for x in X]\n",
        "        return np.array(predictions)\n",
        "\n",
        "    def _predict_single(self, x):\n",
        "        posteriors = []\n",
        "        for i, c in enumerate(self.classes_):\n",
        "            prior = self.priors_[i]\n",
        "            likelihood = 1.0\n",
        "            for j in range(self.n_features_):\n",
        "                # Use norm.pdf for Gaussian likelihood\n",
        "                likelihood *= norm.pdf(x[j], loc=self.means_[i, j], scale=np.sqrt(self.variances_[i, j]))\n",
        "            posterior = likelihood * prior\n",
        "            posteriors.append(posterior)\n",
        "        return self.classes_[np.argmax(posteriors)]\n"
      ],
      "execution_count": 3,
      "outputs": []
    },
    {
      "cell_type": "code",
      "metadata": {
        "id": "68be31f9"
      },
      "source": [
        "model = BayesianDecisionTheoryClassifier()\n",
        "model.fit(X_train, y_train)"
      ],
      "execution_count": 4,
      "outputs": []
    },
    {
      "cell_type": "code",
      "metadata": {
        "colab": {
          "base_uri": "https://localhost:8080/"
        },
        "id": "5030917e",
        "outputId": "41091bf7-73d6-4118-b3cd-80e2a8776fd5"
      },
      "source": [
        "from sklearn.metrics import accuracy_score, precision_score, recall_score, f1_score\n",
        "\n",
        "y_pred = model.predict(X_test)\n",
        "\n",
        "accuracy = accuracy_score(y_test, y_pred)\n",
        "precision = precision_score(y_test, y_pred, average='weighted')\n",
        "recall = recall_score(y_test, y_pred, average='weighted')\n",
        "f1 = f1_score(y_test, y_pred, average='weighted')\n",
        "\n",
        "print(f\"Accuracy: {accuracy:.4f}\")\n",
        "print(f\"Precision: {precision:.4f}\")\n",
        "print(f\"Recall: {recall:.4f}\")\n",
        "print(f\"F1-score: {f1:.4f}\")"
      ],
      "execution_count": 5,
      "outputs": [
        {
          "output_type": "stream",
          "name": "stdout",
          "text": [
            "Accuracy: 0.9778\n",
            "Precision: 0.9794\n",
            "Recall: 0.9778\n",
            "F1-score: 0.9777\n"
          ]
        }
      ]
    }
  ]
}